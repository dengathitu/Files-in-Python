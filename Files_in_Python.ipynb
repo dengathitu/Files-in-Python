{
  "nbformat": 4,
  "nbformat_minor": 0,
  "metadata": {
    "colab": {
      "provenance": [],
      "authorship_tag": "ABX9TyNOZK3JgmbE5C98dQpPPpB1",
      "include_colab_link": true
    },
    "kernelspec": {
      "name": "python3",
      "display_name": "Python 3"
    },
    "language_info": {
      "name": "python"
    }
  },
  "cells": [
    {
      "cell_type": "markdown",
      "metadata": {
        "id": "view-in-github",
        "colab_type": "text"
      },
      "source": [
        "<a href=\"https://colab.research.google.com/github/dengathitu/Files-in-Python/blob/main/Files_in_Python.ipynb\" target=\"_parent\"><img src=\"https://colab.research.google.com/assets/colab-badge.svg\" alt=\"Open In Colab\"/></a>"
      ]
    },
    {
      "cell_type": "markdown",
      "source": [
        "# Creating a File\n",
        "The code below show how to create a file."
      ],
      "metadata": {
        "id": "h0cQMMFeBb6g"
      }
    },
    {
      "cell_type": "code",
      "execution_count": null,
      "metadata": {
        "id": "kquuZvsiBZXO",
        "colab": {
          "base_uri": "https://localhost:8080/",
          "height": 141
        },
        "outputId": "be8a50d2-401d-4e65-99c4-67e7e871d252"
      },
      "outputs": [
        {
          "output_type": "error",
          "ename": "FileExistsError",
          "evalue": "[Errno 17] File exists: 'register.txt'",
          "traceback": [
            "\u001b[0;31m---------------------------------------------------------------------------\u001b[0m",
            "\u001b[0;31mFileExistsError\u001b[0m                           Traceback (most recent call last)",
            "\u001b[0;32m<ipython-input-38-9b61d949df70>\u001b[0m in \u001b[0;36m<cell line: 0>\u001b[0;34m()\u001b[0m\n\u001b[0;32m----> 1\u001b[0;31m \u001b[0mx\u001b[0m \u001b[0;34m=\u001b[0m \u001b[0mopen\u001b[0m\u001b[0;34m(\u001b[0m\u001b[0;34m\"register.txt\"\u001b[0m\u001b[0;34m,\u001b[0m\u001b[0;34m\"x\"\u001b[0m\u001b[0;34m)\u001b[0m\u001b[0;34m\u001b[0m\u001b[0;34m\u001b[0m\u001b[0m\n\u001b[0m",
            "\u001b[0;31mFileExistsError\u001b[0m: [Errno 17] File exists: 'register.txt'"
          ]
        }
      ],
      "source": [
        "x = open(\"register.txt\",\"x\")"
      ]
    },
    {
      "cell_type": "markdown",
      "source": [
        "# Writing data into a file\n",
        "This show how how to write data into a file."
      ],
      "metadata": {
        "id": "KSm3ZcdnCw-1"
      }
    },
    {
      "cell_type": "code",
      "source": [
        "x.write(\"Understand the fundamentals of HR auditing. Learn techniques and methodologies for auditing HR practices. Ensure compliance with labor laws and regulations. Develop strategies to improve HR processes and performance\")"
      ],
      "metadata": {
        "id": "o5In3EUTC-BV",
        "colab": {
          "base_uri": "https://localhost:8080/"
        },
        "outputId": "0bb74307-cec0-4410-ca95-e37890130572"
      },
      "execution_count": null,
      "outputs": [
        {
          "output_type": "execute_result",
          "data": {
            "text/plain": [
              "215"
            ]
          },
          "metadata": {},
          "execution_count": 39
        }
      ]
    },
    {
      "cell_type": "code",
      "source": [
        "x.close()"
      ],
      "metadata": {
        "id": "swVAaYcKF21T"
      },
      "execution_count": null,
      "outputs": []
    },
    {
      "cell_type": "markdown",
      "source": [
        "# Read File\n",
        "The code below reads and displays the contents of the file."
      ],
      "metadata": {
        "id": "OGhsNuNGGBqo"
      }
    },
    {
      "cell_type": "code",
      "source": [
        "y = open(\"register.txt\", \"r\")\n",
        "print(y.read())\n",
        "y.close()"
      ],
      "metadata": {
        "colab": {
          "base_uri": "https://localhost:8080/"
        },
        "id": "SFeVHqRzGNMZ",
        "outputId": "6ce234bc-6c13-4230-8061-1dea975aeb47"
      },
      "execution_count": null,
      "outputs": [
        {
          "output_type": "stream",
          "name": "stdout",
          "text": [
            "Understand the fundamentals of HR auditing. Learn techniques and methodologies for auditing HR practices. Ensure compliance with labor laws and regulations. Develop strategies to improve HR processes and performance\n"
          ]
        }
      ]
    },
    {
      "cell_type": "markdown",
      "source": [
        "# Write File\n",
        "The code below changes the content of the entire file."
      ],
      "metadata": {
        "id": "GJihDszvHTEe"
      }
    },
    {
      "cell_type": "code",
      "source": [
        "z = open(\"register.txt\", \"w\")\n",
        "z.write(\"Mastering Human Resource Auditing\")\n",
        "print(z)\n",
        "z.close()"
      ],
      "metadata": {
        "colab": {
          "base_uri": "https://localhost:8080/"
        },
        "id": "OENsCF_AHisJ",
        "outputId": "f9f9c0c3-0c67-4b20-bf92-56ff07352f8d"
      },
      "execution_count": null,
      "outputs": [
        {
          "output_type": "stream",
          "name": "stdout",
          "text": [
            "<_io.TextIOWrapper name='register.txt' mode='w' encoding='UTF-8'>\n"
          ]
        }
      ]
    },
    {
      "cell_type": "code",
      "source": [
        "d = open(\"register.txt\", \"r\")\n",
        "print(d.read())\n",
        "d.close()"
      ],
      "metadata": {
        "colab": {
          "base_uri": "https://localhost:8080/"
        },
        "id": "aE-q1NPhIhuV",
        "outputId": "c422583b-f140-4b59-d859-7d2c96023bc6"
      },
      "execution_count": null,
      "outputs": [
        {
          "output_type": "stream",
          "name": "stdout",
          "text": [
            "Mastering Human Resource Auditing\n"
          ]
        }
      ]
    },
    {
      "cell_type": "markdown",
      "source": [
        "# Append File\n",
        "The code below adds content in a file."
      ],
      "metadata": {
        "id": "3GSGQ6xnIAq5"
      }
    },
    {
      "cell_type": "code",
      "source": [
        "e = open(\"register.txt\", \"a\")\n",
        "e.write(\" Training is scheduled for Monday\")\n",
        "print(e)\n",
        "e.close()"
      ],
      "metadata": {
        "id": "2h5OWTQbJTnN",
        "colab": {
          "base_uri": "https://localhost:8080/"
        },
        "outputId": "1bc61c59-84c0-4756-fe94-61ef6552fc35"
      },
      "execution_count": null,
      "outputs": [
        {
          "output_type": "stream",
          "name": "stdout",
          "text": [
            "<_io.TextIOWrapper name='register.txt' mode='a' encoding='UTF-8'>\n"
          ]
        }
      ]
    },
    {
      "cell_type": "code",
      "source": [
        "f = open(\"register.txt\", \"r\")\n",
        "print(f.read())\n",
        "f.close()\n"
      ],
      "metadata": {
        "colab": {
          "base_uri": "https://localhost:8080/"
        },
        "id": "rvJl4S6cKUdi",
        "outputId": "896db7fa-e168-4cac-fda2-7de43cb8085a"
      },
      "execution_count": null,
      "outputs": [
        {
          "output_type": "stream",
          "name": "stdout",
          "text": [
            "Mastering Human Resource Auditing Training is scheduled for Monday\n"
          ]
        }
      ]
    },
    {
      "cell_type": "markdown",
      "source": [
        "# Confirm File is Closed\n",
        "The following code snippet confirms that file is closed"
      ],
      "metadata": {
        "id": "zMgtuZfxPQp9"
      }
    },
    {
      "cell_type": "code",
      "source": [
        "e.closed"
      ],
      "metadata": {
        "colab": {
          "base_uri": "https://localhost:8080/"
        },
        "id": "2oDiGHLKPiGt",
        "outputId": "0d3b4db0-39bd-42fc-a465-b59ba1b22093"
      },
      "execution_count": null,
      "outputs": [
        {
          "output_type": "execute_result",
          "data": {
            "text/plain": [
              "True"
            ]
          },
          "metadata": {},
          "execution_count": 46
        }
      ]
    },
    {
      "cell_type": "markdown",
      "source": [
        "# Reading File Content\n",
        "The following code Snippet reads the file content."
      ],
      "metadata": {
        "id": "RkQrZ0I0R1ZH"
      }
    },
    {
      "cell_type": "code",
      "source": [
        "with open(\"register.txt\", \"r\") as g:\n",
        "   FileContent = print(g.read())\n",
        "   print(FileContent)"
      ],
      "metadata": {
        "colab": {
          "base_uri": "https://localhost:8080/"
        },
        "id": "E0qSLtPfRNFh",
        "outputId": "f51f2b2a-7752-4c73-e4cb-49a2424b7561"
      },
      "execution_count": null,
      "outputs": [
        {
          "output_type": "stream",
          "name": "stdout",
          "text": [
            "Mastering Human Resource Auditing Training is scheduled for Monday\n",
            "None\n"
          ]
        }
      ]
    },
    {
      "cell_type": "markdown",
      "source": [
        "# Confirm File Closed\n",
        "The code snippet below confirm that the file is closed."
      ],
      "metadata": {
        "id": "ewXpgc3hSZRk"
      }
    },
    {
      "cell_type": "code",
      "source": [
        "g.closed"
      ],
      "metadata": {
        "colab": {
          "base_uri": "https://localhost:8080/"
        },
        "id": "qvjQMDt6RqlJ",
        "outputId": "58cd533e-433c-4bd4-b7f1-255308198f17"
      },
      "execution_count": null,
      "outputs": [
        {
          "output_type": "execute_result",
          "data": {
            "text/plain": [
              "True"
            ]
          },
          "metadata": {},
          "execution_count": 52
        }
      ]
    },
    {
      "cell_type": "markdown",
      "source": [
        "# Reading characters in a file\n",
        "The following code snippet reads characters in a file."
      ],
      "metadata": {
        "id": "dMrHfPHyVGpg"
      }
    },
    {
      "cell_type": "code",
      "source": [
        "h = open(\"register.txt\", \"r\")\n",
        "print(h.read(15))\n",
        "h.close()\n"
      ],
      "metadata": {
        "id": "bXGU2fs2SMgj",
        "colab": {
          "base_uri": "https://localhost:8080/"
        },
        "outputId": "70bc5244-e78b-44e8-9755-697c67e25d3b"
      },
      "execution_count": 59,
      "outputs": [
        {
          "output_type": "stream",
          "name": "stdout",
          "text": [
            "Mastering Human\n"
          ]
        }
      ]
    }
  ]
}